{
  "nbformat": 4,
  "nbformat_minor": 0,
  "metadata": {
    "colab": {
      "name": "Fish.ipynb",
      "provenance": [],
      "authorship_tag": "ABX9TyPpS6WwD/ONhIDeUJEsP0Ba",
      "include_colab_link": true
    },
    "kernelspec": {
      "display_name": "Python 3",
      "name": "python3"
    },
    "language_info": {
      "name": "python"
    }
  },
  "cells": [
    {
      "cell_type": "markdown",
      "metadata": {
        "id": "view-in-github",
        "colab_type": "text"
      },
      "source": [
        "<a href=\"https://colab.research.google.com/github/AbdullahNasser98/Fish-classifictation/blob/master/Fish.ipynb\" target=\"_parent\"><img src=\"https://colab.research.google.com/assets/colab-badge.svg\" alt=\"Open In Colab\"/></a>"
      ]
    },
    {
      "cell_type": "code",
      "metadata": {
        "colab": {
          "base_uri": "https://localhost:8080/"
        },
        "id": "JlXC7xZPH6YN",
        "outputId": "e026258d-4dd0-423c-99a5-c573f6b658fd"
      },
      "source": [
        "!pip install kaggle"
      ],
      "execution_count": null,
      "outputs": [
        {
          "name": "stdout",
          "output_type": "stream",
          "text": [
            "Requirement already satisfied: kaggle in /usr/local/lib/python3.7/dist-packages (1.5.12)\n",
            "Requirement already satisfied: six>=1.10 in /usr/local/lib/python3.7/dist-packages (from kaggle) (1.15.0)\n",
            "Requirement already satisfied: urllib3 in /usr/local/lib/python3.7/dist-packages (from kaggle) (1.24.3)\n",
            "Requirement already satisfied: python-slugify in /usr/local/lib/python3.7/dist-packages (from kaggle) (5.0.2)\n",
            "Requirement already satisfied: requests in /usr/local/lib/python3.7/dist-packages (from kaggle) (2.23.0)\n",
            "Requirement already satisfied: certifi in /usr/local/lib/python3.7/dist-packages (from kaggle) (2021.5.30)\n",
            "Requirement already satisfied: tqdm in /usr/local/lib/python3.7/dist-packages (from kaggle) (4.62.0)\n",
            "Requirement already satisfied: python-dateutil in /usr/local/lib/python3.7/dist-packages (from kaggle) (2.8.2)\n",
            "Requirement already satisfied: text-unidecode>=1.3 in /usr/local/lib/python3.7/dist-packages (from python-slugify->kaggle) (1.3)\n",
            "Requirement already satisfied: chardet<4,>=3.0.2 in /usr/local/lib/python3.7/dist-packages (from requests->kaggle) (3.0.4)\n",
            "Requirement already satisfied: idna<3,>=2.5 in /usr/local/lib/python3.7/dist-packages (from requests->kaggle) (2.10)\n"
          ]
        }
      ]
    },
    {
      "cell_type": "code",
      "metadata": {
        "colab": {
          "resources": {
            "http://localhost:8080/nbextensions/google.colab/files.js": {
              "data": "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",
              "headers": [
                [
                  "content-type",
                  "application/javascript"
                ]
              ],
              "ok": true,
              "status": 200,
              "status_text": ""
            }
          },
          "base_uri": "https://localhost:8080/",
          "height": 89
        },
        "id": "ZttnceEXH8sI",
        "outputId": "ab806393-e36a-4e5e-92a9-2b1edac230f6"
      },
      "source": [
        "from google.colab import files\n",
        "files.upload()"
      ],
      "execution_count": null,
      "outputs": [
        {
          "data": {
            "text/html": [
              "\n",
              "     <input type=\"file\" id=\"files-1b011f2c-6b2f-46a0-b66b-a68d73f7e8a6\" name=\"files[]\" multiple disabled\n",
              "        style=\"border:none\" />\n",
              "     <output id=\"result-1b011f2c-6b2f-46a0-b66b-a68d73f7e8a6\">\n",
              "      Upload widget is only available when the cell has been executed in the\n",
              "      current browser session. Please rerun this cell to enable.\n",
              "      </output>\n",
              "      <script src=\"/nbextensions/google.colab/files.js\"></script> "
            ],
            "text/plain": [
              "<IPython.core.display.HTML object>"
            ]
          },
          "metadata": {},
          "output_type": "display_data"
        },
        {
          "name": "stdout",
          "output_type": "stream",
          "text": [
            "Saving kaggle.json to kaggle (1).json\n"
          ]
        },
        {
          "data": {
            "text/plain": [
              "{'kaggle.json': b'{\"username\":\"abdullahnasser\",\"key\":\"cf934485d641c4759dcc24e8c3a3a170\"}'}"
            ]
          },
          "execution_count": 2,
          "metadata": {},
          "output_type": "execute_result"
        }
      ]
    },
    {
      "cell_type": "code",
      "metadata": {
        "id": "KkqNqwitH9_k"
      },
      "source": [
        "!mkdir -p ~/.kaggle\n",
        "!cp kaggle.json ~/.kaggle/\n",
        "!chmod 600 ~/.kaggle/kaggle.json"
      ],
      "execution_count": null,
      "outputs": []
    },
    {
      "cell_type": "code",
      "metadata": {
        "colab": {
          "base_uri": "https://localhost:8080/"
        },
        "id": "pZmGtz1XH_29",
        "outputId": "4b81d33d-131f-4d6f-ac53-2410e57b4a42"
      },
      "source": [
        "!kaggle datasets download -d crowww/a-large-scale-fish-dataset"
      ],
      "execution_count": null,
      "outputs": [
        {
          "name": "stdout",
          "output_type": "stream",
          "text": [
            "a-large-scale-fish-dataset.zip: Skipping, found more recently modified local copy (use --force to force download)\n"
          ]
        }
      ]
    },
    {
      "cell_type": "code",
      "metadata": {
        "colab": {
          "base_uri": "https://localhost:8080/"
        },
        "id": "eMASLTD3IM4G",
        "outputId": "de4a524a-fa69-45a0-87de-4d12465c0299"
      },
      "source": [
        "!ls"
      ],
      "execution_count": null,
      "outputs": [
        {
          "name": "stdout",
          "output_type": "stream",
          "text": [
            " a-large-scale-fish-dataset.zip   fish.weights.best.hdf5   kaggle.json\n",
            " files\t\t\t\t 'kaggle (1).json'\t   sample_data\n"
          ]
        }
      ]
    },
    {
      "cell_type": "code",
      "metadata": {
        "id": "7aM3Nt5sIO60"
      },
      "source": [
        "import zipfile\n",
        "zip_ref = zipfile.ZipFile('a-large-scale-fish-dataset.zip', 'r')\n",
        "zip_ref.extractall('files')\n",
        "zip_ref.close()"
      ],
      "execution_count": null,
      "outputs": []
    },
    {
      "cell_type": "code",
      "metadata": {
        "id": "9PCtb-xlIQxe"
      },
      "source": [
        "import pandas as pd\n",
        "import numpy as np\n",
        "import cv2 as cv\n",
        "from glob import glob\n",
        "import matplotlib.pyplot as plt\n",
        "%matplotlib inline\n",
        "import seaborn as sn"
      ],
      "execution_count": null,
      "outputs": []
    },
    {
      "cell_type": "markdown",
      "metadata": {
        "id": "_7d3180kHL2U"
      },
      "source": [
        "Reading path of images"
      ]
    },
    {
      "cell_type": "code",
      "metadata": {
        "id": "gCmI-0u1M-NI"
      },
      "source": [
        "img_path = []\n",
        "for name in glob('/content/files/Fish_Dataset/Fish_Dataset/*/*', recursive=True):\n",
        "  if name.endswith('.txt') or name.endswith('.m'):\n",
        "    pass\n",
        "  else:\n",
        "    img_path.append(name)"
      ],
      "execution_count": null,
      "outputs": []
    },
    {
      "cell_type": "code",
      "metadata": {
        "colab": {
          "base_uri": "https://localhost:8080/"
        },
        "id": "PYFOlyKNGaN5",
        "outputId": "a7b082ac-bd46-4150-81a9-4a0cbe1d9c94"
      },
      "source": [
        "img_path"
      ],
      "execution_count": null,
      "outputs": [
        {
          "data": {
            "text/plain": [
              "['/content/files/Fish_Dataset/Fish_Dataset/Gilt-Head Bream/Gilt-Head Bream',\n",
              " '/content/files/Fish_Dataset/Fish_Dataset/Gilt-Head Bream/Gilt-Head Bream GT',\n",
              " '/content/files/Fish_Dataset/Fish_Dataset/Hourse Mackerel/Hourse Mackerel',\n",
              " '/content/files/Fish_Dataset/Fish_Dataset/Hourse Mackerel/Hourse Mackerel GT',\n",
              " '/content/files/Fish_Dataset/Fish_Dataset/Striped Red Mullet/Striped Red Mullet',\n",
              " '/content/files/Fish_Dataset/Fish_Dataset/Striped Red Mullet/Striped Red Mullet GT',\n",
              " '/content/files/Fish_Dataset/Fish_Dataset/Red Mullet/Red Mullet',\n",
              " '/content/files/Fish_Dataset/Fish_Dataset/Red Mullet/Red Mullet GT',\n",
              " '/content/files/Fish_Dataset/Fish_Dataset/Black Sea Sprat/Black Sea Sprat',\n",
              " '/content/files/Fish_Dataset/Fish_Dataset/Black Sea Sprat/Black Sea Sprat GT',\n",
              " '/content/files/Fish_Dataset/Fish_Dataset/Trout/Trout GT',\n",
              " '/content/files/Fish_Dataset/Fish_Dataset/Trout/Trout',\n",
              " '/content/files/Fish_Dataset/Fish_Dataset/Red Sea Bream/Red Sea Bream',\n",
              " '/content/files/Fish_Dataset/Fish_Dataset/Red Sea Bream/Red Sea Bream GT',\n",
              " '/content/files/Fish_Dataset/Fish_Dataset/Shrimp/Shrimp GT',\n",
              " '/content/files/Fish_Dataset/Fish_Dataset/Shrimp/Shrimp',\n",
              " '/content/files/Fish_Dataset/Fish_Dataset/Sea Bass/Sea Bass GT',\n",
              " '/content/files/Fish_Dataset/Fish_Dataset/Sea Bass/Sea Bass']"
            ]
          },
          "execution_count": 9,
          "metadata": {},
          "output_type": "execute_result"
        }
      ]
    },
    {
      "cell_type": "markdown",
      "metadata": {
        "id": "S_y2HdrEHQHO"
      },
      "source": [
        "Removing GT images"
      ]
    },
    {
      "cell_type": "code",
      "metadata": {
        "id": "vn4HaIY5Gfwu"
      },
      "source": [
        "patches = []\n",
        "for i in img_path:\n",
        "  if i.endswith('GT'):\n",
        "    pass\n",
        "  else:\n",
        "    patches += glob(i+'/*.png')"
      ],
      "execution_count": null,
      "outputs": []
    },
    {
      "cell_type": "code",
      "metadata": {
        "colab": {
          "base_uri": "https://localhost:8080/"
        },
        "id": "MF8OoHILHfVc",
        "outputId": "d31dd1db-c5ca-4fa8-82e3-ac6c3cbb617b"
      },
      "source": [
        "img_path = patches\n",
        "img_path = pd.Series(img_path).astype(str)\n",
        "img_path.head()"
      ],
      "execution_count": null,
      "outputs": [
        {
          "data": {
            "text/plain": [
              "0    /content/files/Fish_Dataset/Fish_Dataset/Gilt-...\n",
              "1    /content/files/Fish_Dataset/Fish_Dataset/Gilt-...\n",
              "2    /content/files/Fish_Dataset/Fish_Dataset/Gilt-...\n",
              "3    /content/files/Fish_Dataset/Fish_Dataset/Gilt-...\n",
              "4    /content/files/Fish_Dataset/Fish_Dataset/Gilt-...\n",
              "dtype: object"
            ]
          },
          "execution_count": 11,
          "metadata": {},
          "output_type": "execute_result"
        }
      ]
    },
    {
      "cell_type": "code",
      "metadata": {
        "colab": {
          "base_uri": "https://localhost:8080/"
        },
        "id": "4JNFc6bwHgs6",
        "outputId": "258cd0b4-3a96-4175-cfb0-31c073c4164c"
      },
      "source": [
        "labels = []\n",
        "for i in img_path:\n",
        "  labels.append(i.split('/')[5])\n",
        "\n",
        "set(labels)"
      ],
      "execution_count": null,
      "outputs": [
        {
          "data": {
            "text/plain": [
              "{'Black Sea Sprat',\n",
              " 'Gilt-Head Bream',\n",
              " 'Hourse Mackerel',\n",
              " 'Red Mullet',\n",
              " 'Red Sea Bream',\n",
              " 'Sea Bass',\n",
              " 'Shrimp',\n",
              " 'Striped Red Mullet',\n",
              " 'Trout'}"
            ]
          },
          "execution_count": 12,
          "metadata": {},
          "output_type": "execute_result"
        }
      ]
    },
    {
      "cell_type": "code",
      "metadata": {
        "colab": {
          "base_uri": "https://localhost:8080/"
        },
        "id": "5tpcoG9AH-TK",
        "outputId": "eb7c08e5-e634-4d0f-e56c-05031e51a79d"
      },
      "source": [
        "print(len(img_path), len(labels))"
      ],
      "execution_count": null,
      "outputs": [
        {
          "name": "stdout",
          "output_type": "stream",
          "text": [
            "9000 9000\n"
          ]
        }
      ]
    },
    {
      "cell_type": "code",
      "metadata": {
        "id": "PRtwc5Z4JGr3"
      },
      "source": [
        "labels = pd.Series(labels)"
      ],
      "execution_count": null,
      "outputs": []
    },
    {
      "cell_type": "code",
      "metadata": {
        "id": "gadS-DkjJNdT"
      },
      "source": [
        "df = pd.concat([img_path, labels], axis=1)"
      ],
      "execution_count": null,
      "outputs": []
    },
    {
      "cell_type": "code",
      "metadata": {
        "colab": {
          "base_uri": "https://localhost:8080/",
          "height": 204
        },
        "id": "I10Fntk0JSfe",
        "outputId": "52b2fbc5-331a-4ce6-8d1e-ae5edd1b532a"
      },
      "source": [
        "df.head()"
      ],
      "execution_count": null,
      "outputs": [
        {
          "data": {
            "text/html": [
              "<div>\n",
              "<style scoped>\n",
              "    .dataframe tbody tr th:only-of-type {\n",
              "        vertical-align: middle;\n",
              "    }\n",
              "\n",
              "    .dataframe tbody tr th {\n",
              "        vertical-align: top;\n",
              "    }\n",
              "\n",
              "    .dataframe thead th {\n",
              "        text-align: right;\n",
              "    }\n",
              "</style>\n",
              "<table border=\"1\" class=\"dataframe\">\n",
              "  <thead>\n",
              "    <tr style=\"text-align: right;\">\n",
              "      <th></th>\n",
              "      <th>0</th>\n",
              "      <th>1</th>\n",
              "    </tr>\n",
              "  </thead>\n",
              "  <tbody>\n",
              "    <tr>\n",
              "      <th>0</th>\n",
              "      <td>/content/files/Fish_Dataset/Fish_Dataset/Gilt-...</td>\n",
              "      <td>Gilt-Head Bream</td>\n",
              "    </tr>\n",
              "    <tr>\n",
              "      <th>1</th>\n",
              "      <td>/content/files/Fish_Dataset/Fish_Dataset/Gilt-...</td>\n",
              "      <td>Gilt-Head Bream</td>\n",
              "    </tr>\n",
              "    <tr>\n",
              "      <th>2</th>\n",
              "      <td>/content/files/Fish_Dataset/Fish_Dataset/Gilt-...</td>\n",
              "      <td>Gilt-Head Bream</td>\n",
              "    </tr>\n",
              "    <tr>\n",
              "      <th>3</th>\n",
              "      <td>/content/files/Fish_Dataset/Fish_Dataset/Gilt-...</td>\n",
              "      <td>Gilt-Head Bream</td>\n",
              "    </tr>\n",
              "    <tr>\n",
              "      <th>4</th>\n",
              "      <td>/content/files/Fish_Dataset/Fish_Dataset/Gilt-...</td>\n",
              "      <td>Gilt-Head Bream</td>\n",
              "    </tr>\n",
              "  </tbody>\n",
              "</table>\n",
              "</div>"
            ],
            "text/plain": [
              "                                                   0                1\n",
              "0  /content/files/Fish_Dataset/Fish_Dataset/Gilt-...  Gilt-Head Bream\n",
              "1  /content/files/Fish_Dataset/Fish_Dataset/Gilt-...  Gilt-Head Bream\n",
              "2  /content/files/Fish_Dataset/Fish_Dataset/Gilt-...  Gilt-Head Bream\n",
              "3  /content/files/Fish_Dataset/Fish_Dataset/Gilt-...  Gilt-Head Bream\n",
              "4  /content/files/Fish_Dataset/Fish_Dataset/Gilt-...  Gilt-Head Bream"
            ]
          },
          "execution_count": 16,
          "metadata": {},
          "output_type": "execute_result"
        }
      ]
    },
    {
      "cell_type": "code",
      "metadata": {
        "id": "gELcErCVJUi-"
      },
      "source": [
        "df = df.rename(columns={0:'path', 1:'label'})"
      ],
      "execution_count": null,
      "outputs": []
    },
    {
      "cell_type": "code",
      "metadata": {
        "colab": {
          "base_uri": "https://localhost:8080/",
          "height": 204
        },
        "id": "X_CVzTfVJvKw",
        "outputId": "487f23a2-d6a5-49ad-f8cd-62dbe8f81207"
      },
      "source": [
        "df.head()"
      ],
      "execution_count": null,
      "outputs": [
        {
          "data": {
            "text/html": [
              "<div>\n",
              "<style scoped>\n",
              "    .dataframe tbody tr th:only-of-type {\n",
              "        vertical-align: middle;\n",
              "    }\n",
              "\n",
              "    .dataframe tbody tr th {\n",
              "        vertical-align: top;\n",
              "    }\n",
              "\n",
              "    .dataframe thead th {\n",
              "        text-align: right;\n",
              "    }\n",
              "</style>\n",
              "<table border=\"1\" class=\"dataframe\">\n",
              "  <thead>\n",
              "    <tr style=\"text-align: right;\">\n",
              "      <th></th>\n",
              "      <th>path</th>\n",
              "      <th>label</th>\n",
              "    </tr>\n",
              "  </thead>\n",
              "  <tbody>\n",
              "    <tr>\n",
              "      <th>0</th>\n",
              "      <td>/content/files/Fish_Dataset/Fish_Dataset/Gilt-...</td>\n",
              "      <td>Gilt-Head Bream</td>\n",
              "    </tr>\n",
              "    <tr>\n",
              "      <th>1</th>\n",
              "      <td>/content/files/Fish_Dataset/Fish_Dataset/Gilt-...</td>\n",
              "      <td>Gilt-Head Bream</td>\n",
              "    </tr>\n",
              "    <tr>\n",
              "      <th>2</th>\n",
              "      <td>/content/files/Fish_Dataset/Fish_Dataset/Gilt-...</td>\n",
              "      <td>Gilt-Head Bream</td>\n",
              "    </tr>\n",
              "    <tr>\n",
              "      <th>3</th>\n",
              "      <td>/content/files/Fish_Dataset/Fish_Dataset/Gilt-...</td>\n",
              "      <td>Gilt-Head Bream</td>\n",
              "    </tr>\n",
              "    <tr>\n",
              "      <th>4</th>\n",
              "      <td>/content/files/Fish_Dataset/Fish_Dataset/Gilt-...</td>\n",
              "      <td>Gilt-Head Bream</td>\n",
              "    </tr>\n",
              "  </tbody>\n",
              "</table>\n",
              "</div>"
            ],
            "text/plain": [
              "                                                path            label\n",
              "0  /content/files/Fish_Dataset/Fish_Dataset/Gilt-...  Gilt-Head Bream\n",
              "1  /content/files/Fish_Dataset/Fish_Dataset/Gilt-...  Gilt-Head Bream\n",
              "2  /content/files/Fish_Dataset/Fish_Dataset/Gilt-...  Gilt-Head Bream\n",
              "3  /content/files/Fish_Dataset/Fish_Dataset/Gilt-...  Gilt-Head Bream\n",
              "4  /content/files/Fish_Dataset/Fish_Dataset/Gilt-...  Gilt-Head Bream"
            ]
          },
          "execution_count": 18,
          "metadata": {},
          "output_type": "execute_result"
        }
      ]
    },
    {
      "cell_type": "markdown",
      "metadata": {
        "id": "st7iWaLpKEec"
      },
      "source": [
        "Check if the classes are balanced"
      ]
    },
    {
      "cell_type": "code",
      "metadata": {
        "colab": {
          "base_uri": "https://localhost:8080/",
          "height": 361
        },
        "id": "3R8zNfojJwYQ",
        "outputId": "30ece292-f4f1-4c70-f052-126b6aac8037"
      },
      "source": [
        "x = sn.countplot(data=df, x='label')\n",
        "plt.xticks(rotation=90);"
      ],
      "execution_count": null,
      "outputs": [
        {
          "data": {
            "image/png": "[encoded data removed]",
            "text/plain": [
              "<Figure size 432x288 with 1 Axes>"
            ]
          },
          "metadata": {},
          "output_type": "display_data"
        }
      ]
    },
    {
      "cell_type": "markdown",
      "metadata": {
        "id": "Yubdy7wnO_WH"
      },
      "source": [
        "Shuffle the DataFrame before splitting"
      ]
    },
    {
      "cell_type": "code",
      "metadata": {
        "colab": {
          "base_uri": "https://localhost:8080/",
          "height": 204
        },
        "id": "-uqLWeaVO5v3",
        "outputId": "ebfa7678-cdf9-46b4-e2f7-9d46756ebb24"
      },
      "source": [
        "from sklearn.utils import shuffle\n",
        "df = shuffle(df)\n",
        "df.head()"
      ],
      "execution_count": null,
      "outputs": [
        {
          "data": {
            "text/html": [
              "<div>\n",
              "<style scoped>\n",
              "    .dataframe tbody tr th:only-of-type {\n",
              "        vertical-align: middle;\n",
              "    }\n",
              "\n",
              "    .dataframe tbody tr th {\n",
              "        vertical-align: top;\n",
              "    }\n",
              "\n",
              "    .dataframe thead th {\n",
              "        text-align: right;\n",
              "    }\n",
              "</style>\n",
              "<table border=\"1\" class=\"dataframe\">\n",
              "  <thead>\n",
              "    <tr style=\"text-align: right;\">\n",
              "      <th></th>\n",
              "      <th>path</th>\n",
              "      <th>label</th>\n",
              "    </tr>\n",
              "  </thead>\n",
              "  <tbody>\n",
              "    <tr>\n",
              "      <th>8599</th>\n",
              "      <td>/content/files/Fish_Dataset/Fish_Dataset/Sea B...</td>\n",
              "      <td>Sea Bass</td>\n",
              "    </tr>\n",
              "    <tr>\n",
              "      <th>6824</th>\n",
              "      <td>/content/files/Fish_Dataset/Fish_Dataset/Red S...</td>\n",
              "      <td>Red Sea Bream</td>\n",
              "    </tr>\n",
              "    <tr>\n",
              "      <th>51</th>\n",
              "      <td>/content/files/Fish_Dataset/Fish_Dataset/Gilt-...</td>\n",
              "      <td>Gilt-Head Bream</td>\n",
              "    </tr>\n",
              "    <tr>\n",
              "      <th>69</th>\n",
              "      <td>/content/files/Fish_Dataset/Fish_Dataset/Gilt-...</td>\n",
              "      <td>Gilt-Head Bream</td>\n",
              "    </tr>\n",
              "    <tr>\n",
              "      <th>8767</th>\n",
              "      <td>/content/files/Fish_Dataset/Fish_Dataset/Sea B...</td>\n",
              "      <td>Sea Bass</td>\n",
              "    </tr>\n",
              "  </tbody>\n",
              "</table>\n",
              "</div>"
            ],
            "text/plain": [
              "                                                   path            label\n",
              "8599  /content/files/Fish_Dataset/Fish_Dataset/Sea B...         Sea Bass\n",
              "6824  /content/files/Fish_Dataset/Fish_Dataset/Red S...    Red Sea Bream\n",
              "51    /content/files/Fish_Dataset/Fish_Dataset/Gilt-...  Gilt-Head Bream\n",
              "69    /content/files/Fish_Dataset/Fish_Dataset/Gilt-...  Gilt-Head Bream\n",
              "8767  /content/files/Fish_Dataset/Fish_Dataset/Sea B...         Sea Bass"
            ]
          },
          "execution_count": 20,
          "metadata": {},
          "output_type": "execute_result"
        }
      ]
    },
    {
      "cell_type": "code",
      "metadata": {
        "id": "SUxTLtwOLwHJ"
      },
      "source": [
        "# from sklearn.model_selection import train_test_split\n",
        "\n",
        "# X_train, X_test, y_train, y_test = train_test_split(df['path'], df['label'], test_size=0.25, random_state=42)\n",
        "\n",
        "# X_test, X_valid, y_test, y_valid = train_test_split(X_test, y_test, test_size=0.5, random_state=42)\n",
        "\n",
        "df_train = df[:6000]\n",
        "df_test = df[6000:7500]\n",
        "df_valid = df[7500:9000]"
      ],
      "execution_count": null,
      "outputs": []
    },
    {
      "cell_type": "code",
      "metadata": {
        "colab": {
          "base_uri": "https://localhost:8080/"
        },
        "id": "KGlefTXmMR_D",
        "outputId": "00db1f78-bcbd-4c65-fef5-c069f8da5296"
      },
      "source": [
        "print(len(df_train), len(df_test), len(df_valid))"
      ],
      "execution_count": null,
      "outputs": [
        {
          "name": "stdout",
          "output_type": "stream",
          "text": [
            "6000 1500 1500\n"
          ]
        }
      ]
    },
    {
      "cell_type": "code",
      "metadata": {
        "id": "NHQxuQ-HKU0u"
      },
      "source": [
        "from keras.preprocessing.image import ImageDataGenerator\n",
        "datagen = ImageDataGenerator(rescale=1./255)"
      ],
      "execution_count": null,
      "outputs": []
    },
    {
      "cell_type": "code",
      "metadata": {
        "id": "oW2E7-JuNVy-"
      },
      "source": [
        "input_shape = (224, 224, 3)\n",
        "batch_size = 32\n",
        "epochs=100\n",
        "training_size = 6000\n",
        "valid_size = 1500"
      ],
      "execution_count": null,
      "outputs": []
    },
    {
      "cell_type": "code",
      "metadata": {
        "colab": {
          "base_uri": "https://localhost:8080/"
        },
        "id": "IxmiPYi9Mx_b",
        "outputId": "5e0b851e-48fd-4abc-d41e-bfb01564ca57"
      },
      "source": [
        "train_set = datagen.flow_from_dataframe(dataframe = df_train,\n",
        "                                        x_col='path',\n",
        "                                        y_col='label',\n",
        "                                        target_size=(input_shape[0], input_shape[1]),\n",
        "                                        class_mode='categorical',\n",
        "                                        batch_size=batch_size,\n",
        "                                        shuffle=False)\n",
        "\n",
        "test_set = datagen.flow_from_dataframe(dataframe = df_test,\n",
        "                                        x_col='path',\n",
        "                                        y_col='label',\n",
        "                                        target_size=(input_shape[0], input_shape[1]),\n",
        "                                        class_mode='categorical',\n",
        "                                        batch_size=batch_size,\n",
        "                                        shuffle=False)\n",
        "\n",
        "valid_set = datagen.flow_from_dataframe(dataframe = df_valid,\n",
        "                                        x_col='path',\n",
        "                                        y_col='label',\n",
        "                                        target_size=(input_shape[0], input_shape[1]),\n",
        "                                        class_mode='categorical',\n",
        "                                        batch_size=batch_size,\n",
        "                                        shuffle=False)"
      ],
      "execution_count": null,
      "outputs": [
        {
          "name": "stdout",
          "output_type": "stream",
          "text": [
            "Found 6000 validated image filenames belonging to 9 classes.\n",
            "Found 1500 validated image filenames belonging to 9 classes.\n",
            "Found 1500 validated image filenames belonging to 9 classes.\n"
          ]
        }
      ]
    },
    {
      "cell_type": "code",
      "metadata": {
        "id": "Xm6K_i15Pf-_"
      },
      "source": [
        "X_train, y_train = train_set.next()"
      ],
      "execution_count": null,
      "outputs": []
    },
    {
      "cell_type": "code",
      "metadata": {
        "colab": {
          "base_uri": "https://localhost:8080/"
        },
        "id": "-F8gzMQnPqDB",
        "outputId": "751099b4-1781-45d7-854c-edad5b3e23ca"
      },
      "source": [
        "X_train.shape"
      ],
      "execution_count": null,
      "outputs": [
        {
          "data": {
            "text/plain": [
              "(32, 224, 224, 3)"
            ]
          },
          "execution_count": 27,
          "metadata": {},
          "output_type": "execute_result"
        }
      ]
    },
    {
      "cell_type": "code",
      "metadata": {
        "colab": {
          "base_uri": "https://localhost:8080/"
        },
        "id": "AaFGJ1bRPsNd",
        "outputId": "5d3493d6-6324-46da-b011-02efa0d6f53a"
      },
      "source": [
        "from keras.layers import Conv2D, MaxPooling2D, Dense, Dropout, Flatten, BatchNormalization\n",
        "from keras.models import Sequential\n",
        "\n",
        "\n",
        "model = Sequential()\n",
        "\n",
        "model.add(Conv2D(filters=8, kernel_size=2, activation='relu', input_shape=input_shape))\n",
        "model.add(BatchNormalization())\n",
        "model.add(MaxPooling2D(2))\n",
        "model.add(Dropout(0.5))\n",
        "\n",
        "model.add(Conv2D(filters=16, kernel_size=2, activation='relu'))\n",
        "model.add(BatchNormalization())\n",
        "model.add(MaxPooling2D(2))\n",
        "model.add(Dropout(0.5))\n",
        "\n",
        "# model.add(Conv2D(filters=32, kernel_size=2, activation='relu'))\n",
        "# model.add(BatchNormalization())\n",
        "# model.add(MaxPooling2D(2))\n",
        "# model.add(Dropout(0.5))\n",
        "\n",
        "#model.add(Conv2D(filters=128, kernel_size=2, activation='relu'))\n",
        "#model.add(BatchNormalization())\n",
        "#model.add(MaxPooling2D(2))\n",
        "#model.add(Dropout(0.5))\n",
        "\n",
        "model.add(Flatten())\n",
        "model.add(Dense(512, activation='relu'))\n",
        "model.add(Dense(9, activation='softmax'))\n",
        "\n",
        "model.summary()"
      ],
      "execution_count": null,
      "outputs": [
        {
          "name": "stdout",
          "output_type": "stream",
          "text": [
            "Model: \"sequential_3\"\n",
            "_________________________________________________________________\n",
            "Layer (type)                 Output Shape              Param #   \n",
            "=================================================================\n",
            "conv2d_9 (Conv2D)            (None, 223, 223, 8)       104       \n",
            "_________________________________________________________________\n",
            "batch_normalization_5 (Batch (None, 223, 223, 8)       32        \n",
            "_________________________________________________________________\n",
            "max_pooling2d_9 (MaxPooling2 (None, 111, 111, 8)       0         \n",
            "_________________________________________________________________\n",
            "dropout_9 (Dropout)          (None, 111, 111, 8)       0         \n",
            "_________________________________________________________________\n",
            "conv2d_10 (Conv2D)           (None, 110, 110, 16)      528       \n",
            "_________________________________________________________________\n",
            "batch_normalization_6 (Batch (None, 110, 110, 16)      64        \n",
            "_________________________________________________________________\n",
            "max_pooling2d_10 (MaxPooling (None, 55, 55, 16)        0         \n",
            "_________________________________________________________________\n",
            "dropout_10 (Dropout)         (None, 55, 55, 16)        0         \n",
            "_________________________________________________________________\n",
            "flatten_8 (Flatten)          (None, 48400)             0         \n",
            "_________________________________________________________________\n",
            "dense_16 (Dense)             (None, 512)               24781312  \n",
            "_________________________________________________________________\n",
            "dense_17 (Dense)             (None, 9)                 4617      \n",
            "=================================================================\n",
            "Total params: 24,786,657\n",
            "Trainable params: 24,786,609\n",
            "Non-trainable params: 48\n",
            "_________________________________________________________________\n"
          ]
        }
      ]
    },
    {
      "cell_type": "code",
      "metadata": {
        "id": "MMhihCBYjdM5"
      },
      "source": [
        "model.compile(loss='categorical_crossentropy', optimizer='adam', metrics=['accuracy'])"
      ],
      "execution_count": null,
      "outputs": []
    },
    {
      "cell_type": "code",
      "metadata": {
        "id": "hMUy1HoCj2u0"
      },
      "source": [
        "from keras.callbacks import ModelCheckpoint, EarlyStopping, ReduceLROnPlateau\n",
        "\n",
        "checkpointer = ModelCheckpoint(filepath='fish.weights.best.hdf5', verbose=1, save_best_only=True)\n",
        "early = EarlyStopping(monitor='val_loss',\n",
        "                      patience=5,\n",
        "                      verbose=1)\n",
        "learn = ReduceLROnPlateau(monitor='val_accuracy',\n",
        "                          patience=2,\n",
        "                          verbose=1,\n",
        "                          factor=0.2,\n",
        "                          min_lr=0.0001)"
      ],
      "execution_count": null,
      "outputs": []
    },
    {
      "cell_type": "code",
      "metadata": {
        "colab": {
          "base_uri": "https://localhost:8080/"
        },
        "id": "-eGNDIHR7s-p",
        "outputId": "14e50cc0-2f0e-4d12-9127-4cb41a755b7d"
      },
      "source": [
        "import math\n",
        "compute_steps_per_epoch = lambda x: int(math.ceil(1. * x / batch_size))\n",
        "\n",
        "steps_per_epoch = compute_steps_per_epoch(training_size)\n",
        "val_steps = compute_steps_per_epoch(valid_size)\n",
        "\n",
        "print(steps_per_epoch, val_steps)"
      ],
      "execution_count": null,
      "outputs": [
        {
          "name": "stdout",
          "output_type": "stream",
          "text": [
            "188 47\n"
          ]
        }
      ]
    },
    {
      "cell_type": "code",
      "metadata": {
        "colab": {
          "base_uri": "https://localhost:8080/"
        },
        "id": "xFobJR_rlOCc",
        "outputId": "e6008b80-c861-4b53-be7c-ac06a11d76bb"
      },
      "source": [
        "history = model.fit(train_set,\n",
        "                    steps_per_epoch=steps_per_epoch,\n",
        "                    validation_data=valid_set,\n",
        "                    validation_steps = val_steps,\n",
        "                    epochs=epochs,\n",
        "                    callbacks=[checkpointer, learn, early], \n",
        "                    verbose=1)"
      ],
      "execution_count": null,
      "outputs": [
        {
          "name": "stdout",
          "output_type": "stream",
          "text": [
            "Epoch 1/100\n",
            "188/188 [==============================] - 72s 380ms/step - loss: 4.1755 - accuracy: 0.6027 - val_loss: 83.3696 - val_accuracy: 0.1387\n",
            "\n",
            "Epoch 00001: val_loss improved from inf to 83.36964, saving model to fish.weights.best.hdf5\n",
            "Epoch 2/100\n",
            "188/188 [==============================] - 71s 380ms/step - loss: 0.3690 - accuracy: 0.8728 - val_loss: 87.0837 - val_accuracy: 0.1807\n",
            "\n",
            "Epoch 00002: val_loss did not improve from 83.36964\n",
            "Epoch 3/100\n",
            "188/188 [==============================] - 71s 380ms/step - loss: 0.1958 - accuracy: 0.9355 - val_loss: 28.5659 - val_accuracy: 0.2667\n",
            "\n",
            "Epoch 00003: val_loss improved from 83.36964 to 28.56587, saving model to fish.weights.best.hdf5\n",
            "Epoch 4/100\n",
            "188/188 [==============================] - 71s 376ms/step - loss: 0.1029 - accuracy: 0.9662 - val_loss: 6.5367 - val_accuracy: 0.4793\n",
            "\n",
            "Epoch 00004: val_loss improved from 28.56587 to 6.53670, saving model to fish.weights.best.hdf5\n",
            "Epoch 5/100\n",
            "188/188 [==============================] - 72s 381ms/step - loss: 0.0822 - accuracy: 0.9708 - val_loss: 4.6015 - val_accuracy: 0.6167\n",
            "\n",
            "Epoch 00005: val_loss improved from 6.53670 to 4.60148, saving model to fish.weights.best.hdf5\n",
            "Epoch 6/100\n",
            "188/188 [==============================] - 72s 381ms/step - loss: 0.0570 - accuracy: 0.9790 - val_loss: 3.9622 - val_accuracy: 0.6147\n",
            "\n",
            "Epoch 00006: val_loss improved from 4.60148 to 3.96224, saving model to fish.weights.best.hdf5\n",
            "Epoch 7/100\n",
            "188/188 [==============================] - 72s 383ms/step - loss: 0.0579 - accuracy: 0.9823 - val_loss: 2.8118 - val_accuracy: 0.6620\n",
            "\n",
            "Epoch 00007: val_loss improved from 3.96224 to 2.81184, saving model to fish.weights.best.hdf5\n",
            "Epoch 8/100\n",
            "188/188 [==============================] - 72s 383ms/step - loss: 0.0726 - accuracy: 0.9772 - val_loss: 2.1348 - val_accuracy: 0.7473\n",
            "\n",
            "Epoch 00008: val_loss improved from 2.81184 to 2.13480, saving model to fish.weights.best.hdf5\n",
            "Epoch 9/100\n",
            "188/188 [==============================] - 70s 375ms/step - loss: 0.0449 - accuracy: 0.9847 - val_loss: 8.4433 - val_accuracy: 0.5060\n",
            "\n",
            "Epoch 00009: val_loss did not improve from 2.13480\n",
            "Epoch 10/100\n",
            "188/188 [==============================] - 71s 376ms/step - loss: 0.0575 - accuracy: 0.9830 - val_loss: 2.3878 - val_accuracy: 0.7420\n",
            "\n",
            "Epoch 00010: val_loss did not improve from 2.13480\n",
            "\n",
            "Epoch 00010: ReduceLROnPlateau reducing learning rate to 0.00020000000949949026.\n",
            "Epoch 11/100\n",
            "188/188 [==============================] - 71s 377ms/step - loss: 0.0140 - accuracy: 0.9953 - val_loss: 3.0894 - val_accuracy: 0.7133\n",
            "\n",
            "Epoch 00011: val_loss did not improve from 2.13480\n",
            "Epoch 12/100\n",
            "188/188 [==============================] - 71s 380ms/step - loss: 0.0053 - accuracy: 0.9985 - val_loss: 2.6180 - val_accuracy: 0.7373\n",
            "\n",
            "Epoch 00012: val_loss did not improve from 2.13480\n",
            "\n",
            "Epoch 00012: ReduceLROnPlateau reducing learning rate to 0.0001.\n",
            "Epoch 13/100\n",
            "188/188 [==============================] - 70s 375ms/step - loss: 0.0055 - accuracy: 0.9985 - val_loss: 2.6286 - val_accuracy: 0.7447\n",
            "\n",
            "Epoch 00013: val_loss did not improve from 2.13480\n",
            "Epoch 00013: early stopping\n"
          ]
        }
      ]
    },
    {
      "cell_type": "markdown",
      "metadata": {
        "id": "MZr4SsPBx_-w"
      },
      "source": [
        "As we can see the model is overfitting.\n",
        "So we will use transfer learning instead"
      ]
    },
    {
      "cell_type": "code",
      "metadata": {
        "colab": {
          "base_uri": "https://localhost:8080/"
        },
        "id": "00XkokSTmFn6",
        "outputId": "eb08dfe8-9807-4370-d107-f4378c3cd18a"
      },
      "source": [
        "from keras.applications.vgg16 import VGG16\n",
        "from keras.models import Model\n",
        "\n",
        "model = VGG16(include_top=False, input_shape=input_shape)\n",
        "# mark loaded layers as not trainable\n",
        "for layer in model.layers:\n",
        "\tlayer.trainable = False\n",
        "# add new classifier layers\n",
        "flat1 = Flatten()(model.layers[-1].output)\n",
        "class1 = Dense(512, activation='relu',)(flat1)\n",
        "output = Dense(9, activation='softmax')(class1)\n",
        "\t# define new model\n",
        "model = Model(inputs=model.inputs, outputs=output)\n",
        "\t# compile model\n",
        "\n",
        "model.summary()"
      ],
      "execution_count": null,
      "outputs": [
        {
          "name": "stdout",
          "output_type": "stream",
          "text": [
            "Model: \"model_2\"\n",
            "_________________________________________________________________\n",
            "Layer (type)                 Output Shape              Param #   \n",
            "=================================================================\n",
            "input_6 (InputLayer)         [(None, 224, 224, 3)]     0         \n",
            "_________________________________________________________________\n",
            "block1_conv1 (Conv2D)        (None, 224, 224, 64)      1792      \n",
            "_________________________________________________________________\n",
            "block1_conv2 (Conv2D)        (None, 224, 224, 64)      36928     \n",
            "_________________________________________________________________\n",
            "block1_pool (MaxPooling2D)   (None, 112, 112, 64)      0         \n",
            "_________________________________________________________________\n",
            "block2_conv1 (Conv2D)        (None, 112, 112, 128)     73856     \n",
            "_________________________________________________________________\n",
            "block2_conv2 (Conv2D)        (None, 112, 112, 128)     147584    \n",
            "_________________________________________________________________\n",
            "block2_pool (MaxPooling2D)   (None, 56, 56, 128)       0         \n",
            "_________________________________________________________________\n",
            "block3_conv1 (Conv2D)        (None, 56, 56, 256)       295168    \n",
            "_________________________________________________________________\n",
            "block3_conv2 (Conv2D)        (None, 56, 56, 256)       590080    \n",
            "_________________________________________________________________\n",
            "block3_conv3 (Conv2D)        (None, 56, 56, 256)       590080    \n",
            "_________________________________________________________________\n",
            "block3_pool (MaxPooling2D)   (None, 28, 28, 256)       0         \n",
            "_________________________________________________________________\n",
            "block4_conv1 (Conv2D)        (None, 28, 28, 512)       1180160   \n",
            "_________________________________________________________________\n",
            "block4_conv2 (Conv2D)        (None, 28, 28, 512)       2359808   \n",
            "_________________________________________________________________\n",
            "block4_conv3 (Conv2D)        (None, 28, 28, 512)       2359808   \n",
            "_________________________________________________________________\n",
            "block4_pool (MaxPooling2D)   (None, 14, 14, 512)       0         \n",
            "_________________________________________________________________\n",
            "block5_conv1 (Conv2D)        (None, 14, 14, 512)       2359808   \n",
            "_________________________________________________________________\n",
            "block5_conv2 (Conv2D)        (None, 14, 14, 512)       2359808   \n",
            "_________________________________________________________________\n",
            "block5_conv3 (Conv2D)        (None, 14, 14, 512)       2359808   \n",
            "_________________________________________________________________\n",
            "block5_pool (MaxPooling2D)   (None, 7, 7, 512)         0         \n",
            "_________________________________________________________________\n",
            "flatten_9 (Flatten)          (None, 25088)             0         \n",
            "_________________________________________________________________\n",
            "dense_18 (Dense)             (None, 512)               12845568  \n",
            "_________________________________________________________________\n",
            "dense_19 (Dense)             (None, 9)                 4617      \n",
            "=================================================================\n",
            "Total params: 27,564,873\n",
            "Trainable params: 12,850,185\n",
            "Non-trainable params: 14,714,688\n",
            "_________________________________________________________________\n"
          ]
        }
      ]
    },
    {
      "cell_type": "code",
      "metadata": {
        "id": "mFhELETe3i1J"
      },
      "source": [
        "model.compile(loss='categorical_crossentropy', optimizer='adam', metrics=['accuracy'])"
      ],
      "execution_count": null,
      "outputs": []
    },
    {
      "cell_type": "code",
      "metadata": {
        "colab": {
          "base_uri": "https://localhost:8080/"
        },
        "id": "ZQ5xwLC853cL",
        "outputId": "7a2a2ae3-b4af-43d2-b113-19f23310ee99"
      },
      "source": [
        "import math\n",
        "compute_steps_per_epoch = lambda x: int(math.ceil(1. * x / batch_size))\n",
        "\n",
        "steps_per_epoch = compute_steps_per_epoch(training_size)\n",
        "val_steps = compute_steps_per_epoch(valid_size)\n",
        "\n",
        "print(steps_per_epoch, val_steps)"
      ],
      "execution_count": null,
      "outputs": [
        {
          "name": "stdout",
          "output_type": "stream",
          "text": [
            "188 47\n"
          ]
        }
      ]
    },
    {
      "cell_type": "code",
      "metadata": {
        "colab": {
          "background_save": true,
          "base_uri": "https://localhost:8080/"
        },
        "id": "OiKKelu64hjd",
        "outputId": "ee8ee20a-9506-4d78-c887-18ca6c283b09"
      },
      "source": [
        "history = model.fit(train_set,\n",
        "                    steps_per_epoch=steps_per_epoch,\n",
        "                    validation_data=valid_set,\n",
        "                    validation_steps = val_steps,\n",
        "                    epochs=epochs,\n",
        "                    callbacks=[checkpointer, learn, early], \n",
        "                    verbose=1)"
      ],
      "execution_count": null,
      "outputs": [
        {
          "name": "stdout",
          "output_type": "stream",
          "text": [
            "Epoch 1/100\n",
            "188/188 [==============================] - 78s 414ms/step - loss: 0.9637 - accuracy: 0.8240 - val_loss: 0.0968 - val_accuracy: 0.9813\n",
            "\n",
            "Epoch 00001: val_loss improved from 2.13480 to 0.09683, saving model to fish.weights.best.hdf5\n",
            "Epoch 2/100\n",
            "188/188 [==============================] - 78s 413ms/step - loss: 0.0418 - accuracy: 0.9932 - val_loss: 0.0300 - val_accuracy: 0.9967\n",
            "\n",
            "Epoch 00002: val_loss improved from 0.09683 to 0.03003, saving model to fish.weights.best.hdf5\n",
            "Epoch 3/100\n",
            "188/188 [==============================] - 77s 410ms/step - loss: 0.0096 - accuracy: 0.9997 - val_loss: 0.0288 - val_accuracy: 0.9927\n",
            "\n",
            "Epoch 00003: val_loss improved from 0.03003 to 0.02877, saving model to fish.weights.best.hdf5\n",
            "Epoch 4/100\n",
            "188/188 [==============================] - 76s 404ms/step - loss: 0.0047 - accuracy: 1.0000 - val_loss: 0.0165 - val_accuracy: 0.9980\n",
            "\n",
            "Epoch 00004: val_loss improved from 0.02877 to 0.01648, saving model to fish.weights.best.hdf5\n",
            "Epoch 5/100\n",
            "188/188 [==============================] - 77s 407ms/step - loss: 0.0028 - accuracy: 1.0000 - val_loss: 0.0142 - val_accuracy: 0.9980\n",
            "\n",
            "Epoch 00005: val_loss improved from 0.01648 to 0.01417, saving model to fish.weights.best.hdf5\n",
            "Epoch 6/100\n",
            "188/188 [==============================] - 77s 410ms/step - loss: 0.0019 - accuracy: 1.0000 - val_loss: 0.0129 - val_accuracy: 0.9980\n",
            "\n",
            "Epoch 00006: val_loss improved from 0.01417 to 0.01294, saving model to fish.weights.best.hdf5\n",
            "\n",
            "Epoch 00006: ReduceLROnPlateau reducing learning rate to 0.00020000000949949026.\n",
            "Epoch 7/100\n",
            "188/188 [==============================] - 78s 413ms/step - loss: 0.0015 - accuracy: 1.0000 - val_loss: 0.0123 - val_accuracy: 0.9987\n",
            "\n",
            "Epoch 00007: val_loss improved from 0.01294 to 0.01233, saving model to fish.weights.best.hdf5\n",
            "Epoch 8/100\n",
            "188/188 [==============================] - 77s 409ms/step - loss: 0.0014 - accuracy: 1.0000 - val_loss: 0.0118 - val_accuracy: 0.9987\n",
            "\n",
            "Epoch 00008: val_loss improved from 0.01233 to 0.01180, saving model to fish.weights.best.hdf5\n",
            "Epoch 9/100\n",
            "188/188 [==============================] - 77s 408ms/step - loss: 0.0013 - accuracy: 1.0000 - val_loss: 0.0111 - val_accuracy: 0.9987\n",
            "\n",
            "Epoch 00009: val_loss improved from 0.01180 to 0.01113, saving model to fish.weights.best.hdf5\n",
            "\n",
            "Epoch 00009: ReduceLROnPlateau reducing learning rate to 0.0001.\n",
            "Epoch 10/100\n",
            "188/188 [==============================] - 77s 408ms/step - loss: 0.0013 - accuracy: 1.0000 - val_loss: 0.0115 - val_accuracy: 0.9987\n",
            "\n",
            "Epoch 00010: val_loss did not improve from 0.01113\n",
            "Epoch 11/100\n",
            "188/188 [==============================] - 77s 412ms/step - loss: 0.0012 - accuracy: 1.0000 - val_loss: 0.0115 - val_accuracy: 0.9980\n",
            "\n",
            "Epoch 00011: val_loss did not improve from 0.01113\n",
            "Epoch 12/100\n",
            "188/188 [==============================] - 78s 416ms/step - loss: 0.0012 - accuracy: 1.0000 - val_loss: 0.0110 - val_accuracy: 0.9987\n",
            "\n",
            "Epoch 00012: val_loss improved from 0.01113 to 0.01101, saving model to fish.weights.best.hdf5\n",
            "Epoch 13/100\n",
            "188/188 [==============================] - 77s 410ms/step - loss: 0.0011 - accuracy: 1.0000 - val_loss: 0.0110 - val_accuracy: 0.9987\n",
            "\n",
            "Epoch 00013: val_loss did not improve from 0.01101\n",
            "Epoch 14/100\n",
            "188/188 [==============================] - 77s 411ms/step - loss: 0.0011 - accuracy: 1.0000 - val_loss: 0.0107 - val_accuracy: 0.9987\n",
            "\n",
            "Epoch 00014: val_loss improved from 0.01101 to 0.01067, saving model to fish.weights.best.hdf5\n",
            "Epoch 15/100\n",
            "188/188 [==============================] - 78s 414ms/step - loss: 0.0010 - accuracy: 1.0000 - val_loss: 0.0104 - val_accuracy: 0.9987\n",
            "\n",
            "Epoch 00015: val_loss improved from 0.01067 to 0.01045, saving model to fish.weights.best.hdf5\n",
            "Epoch 16/100\n",
            "188/188 [==============================] - 79s 417ms/step - loss: 9.8222e-04 - accuracy: 1.0000 - val_loss: 0.0105 - val_accuracy: 0.9987\n",
            "\n",
            "Epoch 00016: val_loss did not improve from 0.01045\n",
            "Epoch 17/100\n",
            "188/188 [==============================] - 78s 414ms/step - loss: 9.3300e-04 - accuracy: 1.0000 - val_loss: 0.0101 - val_accuracy: 0.9987\n",
            "\n",
            "Epoch 00017: val_loss improved from 0.01045 to 0.01011, saving model to fish.weights.best.hdf5\n",
            "Epoch 18/100\n",
            "188/188 [==============================] - 78s 413ms/step - loss: 8.8572e-04 - accuracy: 1.0000 - val_loss: 0.0101 - val_accuracy: 0.9987\n",
            "\n",
            "Epoch 00018: val_loss improved from 0.01011 to 0.01010, saving model to fish.weights.best.hdf5\n",
            "Epoch 19/100\n",
            "188/188 [==============================] - 77s 408ms/step - loss: 8.3904e-04 - accuracy: 1.0000 - val_loss: 0.0101 - val_accuracy: 0.9987\n",
            "\n",
            "Epoch 00019: val_loss improved from 0.01010 to 0.01008, saving model to fish.weights.best.hdf5\n",
            "Epoch 20/100\n",
            "188/188 [==============================] - 76s 404ms/step - loss: 7.9106e-04 - accuracy: 1.0000 - val_loss: 0.0093 - val_accuracy: 0.9987\n",
            "\n",
            "Epoch 00020: val_loss improved from 0.01008 to 0.00933, saving model to fish.weights.best.hdf5\n",
            "Epoch 21/100\n",
            "188/188 [==============================] - 76s 406ms/step - loss: 7.4493e-04 - accuracy: 1.0000 - val_loss: 0.0094 - val_accuracy: 0.9987\n",
            "\n",
            "Epoch 00021: val_loss did not improve from 0.00933\n",
            "Epoch 22/100\n",
            "188/188 [==============================] - 77s 407ms/step - loss: 6.9384e-04 - accuracy: 1.0000 - val_loss: 0.0096 - val_accuracy: 0.9980\n",
            "\n",
            "Epoch 00022: val_loss did not improve from 0.00933\n",
            "Epoch 23/100\n",
            "188/188 [==============================] - 77s 408ms/step - loss: 6.5207e-04 - accuracy: 1.0000 - val_loss: 0.0094 - val_accuracy: 0.9987\n",
            "\n",
            "Epoch 00023: val_loss did not improve from 0.00933\n",
            "Epoch 24/100\n",
            "188/188 [==============================] - 77s 410ms/step - loss: 6.0511e-04 - accuracy: 1.0000 - val_loss: 0.0089 - val_accuracy: 0.9987\n",
            "\n",
            "Epoch 00024: val_loss improved from 0.00933 to 0.00895, saving model to fish.weights.best.hdf5\n",
            "Epoch 25/100\n",
            "188/188 [==============================] - 76s 406ms/step - loss: 5.5168e-04 - accuracy: 1.0000 - val_loss: 0.0084 - val_accuracy: 0.9987\n",
            "\n",
            "Epoch 00025: val_loss improved from 0.00895 to 0.00837, saving model to fish.weights.best.hdf5\n",
            "Epoch 26/100\n",
            "188/188 [==============================] - 77s 409ms/step - loss: 5.0653e-04 - accuracy: 1.0000 - val_loss: 0.0081 - val_accuracy: 0.9987\n",
            "\n",
            "Epoch 00026: val_loss improved from 0.00837 to 0.00811, saving model to fish.weights.best.hdf5\n",
            "Epoch 27/100\n",
            "188/188 [==============================] - 76s 407ms/step - loss: 4.6225e-04 - accuracy: 1.0000 - val_loss: 0.0085 - val_accuracy: 0.9987\n",
            "\n",
            "Epoch 00027: val_loss did not improve from 0.00811\n",
            "Epoch 28/100\n",
            "188/188 [==============================] - 76s 405ms/step - loss: 4.1612e-04 - accuracy: 1.0000 - val_loss: 0.0079 - val_accuracy: 0.9987\n",
            "\n",
            "Epoch 00028: val_loss improved from 0.00811 to 0.00793, saving model to fish.weights.best.hdf5\n",
            "Epoch 29/100\n",
            "188/188 [==============================] - 76s 402ms/step - loss: 3.7715e-04 - accuracy: 1.0000 - val_loss: 0.0083 - val_accuracy: 0.9980\n",
            "\n",
            "Epoch 00029: val_loss did not improve from 0.00793\n",
            "Epoch 30/100\n",
            "188/188 [==============================] - 75s 400ms/step - loss: 3.4311e-04 - accuracy: 1.0000 - val_loss: 0.0078 - val_accuracy: 0.9980\n",
            "\n",
            "Epoch 00030: val_loss improved from 0.00793 to 0.00776, saving model to fish.weights.best.hdf5\n",
            "Epoch 31/100\n",
            "188/188 [==============================] - 75s 398ms/step - loss: 3.1117e-04 - accuracy: 1.0000 - val_loss: 0.0079 - val_accuracy: 0.9980\n",
            "\n",
            "Epoch 00031: val_loss did not improve from 0.00776\n",
            "Epoch 32/100\n",
            "188/188 [==============================] - 74s 395ms/step - loss: 2.8336e-04 - accuracy: 1.0000 - val_loss: 0.0077 - val_accuracy: 0.9980\n",
            "\n",
            "Epoch 00032: val_loss improved from 0.00776 to 0.00768, saving model to fish.weights.best.hdf5\n",
            "Epoch 33/100\n",
            "188/188 [==============================] - 74s 395ms/step - loss: 2.5632e-04 - accuracy: 1.0000 - val_loss: 0.0075 - val_accuracy: 0.9980\n",
            "\n",
            "Epoch 00033: val_loss improved from 0.00768 to 0.00746, saving model to fish.weights.best.hdf5\n",
            "Epoch 34/100\n",
            "188/188 [==============================] - 74s 395ms/step - loss: 2.3290e-04 - accuracy: 1.0000 - val_loss: 0.0071 - val_accuracy: 0.9980\n",
            "\n",
            "Epoch 00034: val_loss improved from 0.00746 to 0.00706, saving model to fish.weights.best.hdf5\n",
            "Epoch 35/100\n",
            "188/188 [==============================] - 74s 395ms/step - loss: 2.1162e-04 - accuracy: 1.0000 - val_loss: 0.0071 - val_accuracy: 0.9980\n",
            "\n",
            "Epoch 00035: val_loss did not improve from 0.00706\n",
            "Epoch 36/100\n",
            "188/188 [==============================] - 74s 394ms/step - loss: 1.9162e-04 - accuracy: 1.0000 - val_loss: 0.0074 - val_accuracy: 0.9980\n",
            "\n",
            "Epoch 00036: val_loss did not improve from 0.00706\n",
            "Epoch 37/100\n",
            "188/188 [==============================] - 74s 395ms/step - loss: 1.7459e-04 - accuracy: 1.0000 - val_loss: 0.0073 - val_accuracy: 0.9980\n",
            "\n",
            "Epoch 00037: val_loss did not improve from 0.00706\n",
            "Epoch 38/100\n",
            "188/188 [==============================] - 74s 395ms/step - loss: 1.5816e-04 - accuracy: 1.0000 - val_loss: 0.0062 - val_accuracy: 0.9987\n",
            "\n",
            "Epoch 00038: val_loss improved from 0.00706 to 0.00624, saving model to fish.weights.best.hdf5\n",
            "Epoch 39/100\n",
            "188/188 [==============================] - 74s 394ms/step - loss: 1.4417e-04 - accuracy: 1.0000 - val_loss: 0.0068 - val_accuracy: 0.9980\n",
            "\n",
            "Epoch 00039: val_loss did not improve from 0.00624\n",
            "Epoch 40/100\n",
            "188/188 [==============================] - 74s 393ms/step - loss: 1.3059e-04 - accuracy: 1.0000 - val_loss: 0.0065 - val_accuracy: 0.9980\n",
            "\n",
            "Epoch 00040: val_loss did not improve from 0.00624\n",
            "Epoch 41/100\n",
            "188/188 [==============================] - 74s 394ms/step - loss: 1.1869e-04 - accuracy: 1.0000 - val_loss: 0.0063 - val_accuracy: 0.9980\n",
            "\n",
            "Epoch 00041: val_loss did not improve from 0.00624\n",
            "Epoch 42/100\n",
            "188/188 [==============================] - 75s 400ms/step - loss: 1.0719e-04 - accuracy: 1.0000 - val_loss: 0.0066 - val_accuracy: 0.9980\n",
            "\n",
            "Epoch 00042: val_loss did not improve from 0.00624\n",
            "Epoch 43/100\n",
            "188/188 [==============================] - 75s 401ms/step - loss: 9.7939e-05 - accuracy: 1.0000 - val_loss: 0.0064 - val_accuracy: 0.9980\n",
            "\n",
            "Epoch 00043: val_loss did not improve from 0.00624\n",
            "Epoch 00043: early stopping\n"
          ]
        }
      ]
    },
    {
      "cell_type": "code",
      "metadata": {
        "id": "j7I8TrgN4ku9"
      },
      "source": [
        ""
      ],
      "execution_count": null,
      "outputs": []
    }
  ]
}